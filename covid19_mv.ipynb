{
  "nbformat": 4,
  "nbformat_minor": 0,
  "metadata": {
    "colab": {
      "name": "covid19~mv.ipynb",
      "provenance": [],
      "collapsed_sections": []
    },
    "kernelspec": {
      "name": "python3",
      "display_name": "Python 3"
    },
    "accelerator": "GPU"
  },
  "cells": [
    {
      "cell_type": "code",
      "metadata": {
        "id": "LLn4YtF9pFz-",
        "colab_type": "code",
        "colab": {
          "base_uri": "https://localhost:8080/",
          "height": 70
        },
        "outputId": "24aee244-dc3b-4ab8-e636-b1a7926e8a0a"
      },
      "source": [
        "import numpy as np\n",
        "import pandas as pd\n",
        "import seaborn as sn\n",
        "import matplotlib.pyplot as plt\n",
        "from tensorflow.keras.layers import Dense,Conv2D,MaxPooling2D,Dropout,BatchNormalization,Flatten\n",
        "from tensorflow.keras.models import Sequential\n",
        "from tensorflow.keras.preprocessing import image\n",
        "from tensorflow.keras.preprocessing.image import ImageDataGenerator,load_img\n",
        "from glob import glob\n",
        "import os"
      ],
      "execution_count": 1,
      "outputs": [
        {
          "output_type": "stream",
          "text": [
            "/usr/local/lib/python3.6/dist-packages/statsmodels/tools/_testing.py:19: FutureWarning: pandas.util.testing is deprecated. Use the functions in the public API at pandas.testing instead.\n",
            "  import pandas.util.testing as tm\n"
          ],
          "name": "stderr"
        }
      ]
    },
    {
      "cell_type": "code",
      "metadata": {
        "id": "rjmacv1Ypzi-",
        "colab_type": "code",
        "colab": {}
      },
      "source": [
        "model = Sequential()\n",
        "model.add(Conv2D(32,(3,3),activation='relu',input_shape = [224,224,3]))\n",
        "model.add(Conv2D(32,(3,3),activation = 'relu'))\n",
        "model.add(BatchNormalization())\n",
        "model.add(MaxPooling2D(2,2))\n",
        "model.add(Conv2D(64,(3,3),activation = 'relu'))\n",
        "model.add(Conv2D(64,(3,3),activation = 'relu'))\n",
        "model.add(BatchNormalization())\n",
        "model.add(MaxPooling2D(2,2))\n",
        "model.add(Conv2D(128,(3,3),activation = 'relu'))\n",
        "model.add(Conv2D(128,(3,3),activation = 'relu'))\n",
        "model.add(BatchNormalization())\n",
        "model.add(MaxPooling2D(2,2))\n",
        "model.add(Conv2D(256,(3,3),activation = 'relu'))\n",
        "model.add(Conv2D(256,(3,3),activation = 'relu'))\n",
        "model.add(BatchNormalization())\n",
        "model.add(MaxPooling2D(2,2))\n",
        "model.add(Flatten())\n",
        "model.add(Dense(1024,activation='relu'))\n",
        "model.add(BatchNormalization())\n",
        "model.add(Dropout(0.2))\n",
        "model.add(Dense(1024,activation = 'relu'))\n",
        "model.add(BatchNormalization())\n",
        "model.add(Dropout(0.2))\n",
        "model.add(Dense(2,activation = 'softmax'))"
      ],
      "execution_count": 60,
      "outputs": []
    },
    {
      "cell_type": "code",
      "metadata": {
        "id": "5t657qH2rWxW",
        "colab_type": "code",
        "colab": {
          "base_uri": "https://localhost:8080/",
          "height": 953
        },
        "outputId": "b9eb91c2-1500-4e89-905d-a220c6011a9b"
      },
      "source": [
        "model.summary()"
      ],
      "execution_count": 61,
      "outputs": [
        {
          "output_type": "stream",
          "text": [
            "Model: \"sequential_4\"\n",
            "_________________________________________________________________\n",
            "Layer (type)                 Output Shape              Param #   \n",
            "=================================================================\n",
            "conv2d_32 (Conv2D)           (None, 222, 222, 32)      896       \n",
            "_________________________________________________________________\n",
            "conv2d_33 (Conv2D)           (None, 220, 220, 32)      9248      \n",
            "_________________________________________________________________\n",
            "batch_normalization_24 (Batc (None, 220, 220, 32)      128       \n",
            "_________________________________________________________________\n",
            "max_pooling2d_16 (MaxPooling (None, 110, 110, 32)      0         \n",
            "_________________________________________________________________\n",
            "conv2d_34 (Conv2D)           (None, 108, 108, 64)      18496     \n",
            "_________________________________________________________________\n",
            "conv2d_35 (Conv2D)           (None, 106, 106, 64)      36928     \n",
            "_________________________________________________________________\n",
            "batch_normalization_25 (Batc (None, 106, 106, 64)      256       \n",
            "_________________________________________________________________\n",
            "max_pooling2d_17 (MaxPooling (None, 53, 53, 64)        0         \n",
            "_________________________________________________________________\n",
            "conv2d_36 (Conv2D)           (None, 51, 51, 128)       73856     \n",
            "_________________________________________________________________\n",
            "conv2d_37 (Conv2D)           (None, 49, 49, 128)       147584    \n",
            "_________________________________________________________________\n",
            "batch_normalization_26 (Batc (None, 49, 49, 128)       512       \n",
            "_________________________________________________________________\n",
            "max_pooling2d_18 (MaxPooling (None, 24, 24, 128)       0         \n",
            "_________________________________________________________________\n",
            "conv2d_38 (Conv2D)           (None, 22, 22, 256)       295168    \n",
            "_________________________________________________________________\n",
            "conv2d_39 (Conv2D)           (None, 20, 20, 256)       590080    \n",
            "_________________________________________________________________\n",
            "batch_normalization_27 (Batc (None, 20, 20, 256)       1024      \n",
            "_________________________________________________________________\n",
            "max_pooling2d_19 (MaxPooling (None, 10, 10, 256)       0         \n",
            "_________________________________________________________________\n",
            "flatten_4 (Flatten)          (None, 25600)             0         \n",
            "_________________________________________________________________\n",
            "dense_12 (Dense)             (None, 1024)              26215424  \n",
            "_________________________________________________________________\n",
            "batch_normalization_28 (Batc (None, 1024)              4096      \n",
            "_________________________________________________________________\n",
            "dropout_8 (Dropout)          (None, 1024)              0         \n",
            "_________________________________________________________________\n",
            "dense_13 (Dense)             (None, 1024)              1049600   \n",
            "_________________________________________________________________\n",
            "batch_normalization_29 (Batc (None, 1024)              4096      \n",
            "_________________________________________________________________\n",
            "dropout_9 (Dropout)          (None, 1024)              0         \n",
            "_________________________________________________________________\n",
            "dense_14 (Dense)             (None, 2)                 2050      \n",
            "=================================================================\n",
            "Total params: 28,449,442\n",
            "Trainable params: 28,444,386\n",
            "Non-trainable params: 5,056\n",
            "_________________________________________________________________\n"
          ],
          "name": "stdout"
        }
      ]
    },
    {
      "cell_type": "code",
      "metadata": {
        "id": "-HHGPSYtra1l",
        "colab_type": "code",
        "colab": {}
      },
      "source": [
        "model.compile(loss='binary_crossentropy',optimizer='adam',metrics = ['accuracy'])"
      ],
      "execution_count": 62,
      "outputs": []
    },
    {
      "cell_type": "code",
      "metadata": {
        "id": "psntCGCsrp32",
        "colab_type": "code",
        "colab": {}
      },
      "source": [
        "train_datagen = ImageDataGenerator(rescale=1./255,\n",
        "                                   zoom_range = 0.2,\n",
        "                                   shear_range = 0.2,\n",
        "                                   horizontal_flip = True)\n",
        "test_datagen = ImageDataGenerator(rescale=1./255)"
      ],
      "execution_count": 63,
      "outputs": []
    },
    {
      "cell_type": "code",
      "metadata": {
        "id": "x-SQkaGqr3BD",
        "colab_type": "code",
        "colab": {
          "base_uri": "https://localhost:8080/",
          "height": 50
        },
        "outputId": "9827d132-3177-486c-a2a4-1f72f828465c"
      },
      "source": [
        "training_set = train_datagen.flow_from_directory('/content/drive/My Drive/covid-dataset/train',\n",
        "                                                 target_size = (224,224),\n",
        "                                                 class_mode = 'categorical',\n",
        "                                                 batch_size = 32)\n",
        "test_set = test_datagen.flow_from_directory('/content/drive/My Drive/covid-dataset/test',\n",
        "                                            target_size = (224,224),\n",
        "                                            class_mode = 'categorical',\n",
        "                                            batch_size = 32)"
      ],
      "execution_count": 64,
      "outputs": [
        {
          "output_type": "stream",
          "text": [
            "Found 4277 images belonging to 2 classes.\n",
            "Found 342 images belonging to 2 classes.\n"
          ],
          "name": "stdout"
        }
      ]
    },
    {
      "cell_type": "code",
      "metadata": {
        "id": "nxRTId8TsUta",
        "colab_type": "code",
        "colab": {
          "base_uri": "https://localhost:8080/",
          "height": 1000
        },
        "outputId": "a84e5a99-081c-4ddc-e653-dcd8345d62ce"
      },
      "source": [
        "r = model.fit_generator(training_set,\n",
        "                        steps_per_epoch = len(training_set),\n",
        "                        epochs = 50,\n",
        "                        validation_data = test_set,\n",
        "                        validation_steps = len(test_set))"
      ],
      "execution_count": 65,
      "outputs": [
        {
          "output_type": "stream",
          "text": [
            "Epoch 1/50\n",
            "134/134 [==============================] - 56s 416ms/step - loss: 0.4567 - accuracy: 0.8440 - val_loss: 3.0007 - val_accuracy: 0.5965\n",
            "Epoch 2/50\n",
            "134/134 [==============================] - 56s 415ms/step - loss: 0.2258 - accuracy: 0.9212 - val_loss: 1.3424 - val_accuracy: 0.5965\n",
            "Epoch 3/50\n",
            "134/134 [==============================] - 55s 411ms/step - loss: 0.2027 - accuracy: 0.9299 - val_loss: 0.3207 - val_accuracy: 0.9035\n",
            "Epoch 4/50\n",
            "134/134 [==============================] - 55s 414ms/step - loss: 0.1920 - accuracy: 0.9327 - val_loss: 0.6679 - val_accuracy: 0.7018\n",
            "Epoch 5/50\n",
            "134/134 [==============================] - 55s 414ms/step - loss: 0.1687 - accuracy: 0.9376 - val_loss: 0.1299 - val_accuracy: 0.9503\n",
            "Epoch 6/50\n",
            "134/134 [==============================] - 56s 416ms/step - loss: 0.1705 - accuracy: 0.9390 - val_loss: 0.6418 - val_accuracy: 0.7222\n",
            "Epoch 7/50\n",
            "134/134 [==============================] - 56s 420ms/step - loss: 0.1503 - accuracy: 0.9455 - val_loss: 0.3249 - val_accuracy: 0.8596\n",
            "Epoch 8/50\n",
            "134/134 [==============================] - 56s 418ms/step - loss: 0.1561 - accuracy: 0.9451 - val_loss: 0.5899 - val_accuracy: 0.8363\n",
            "Epoch 9/50\n",
            "134/134 [==============================] - 56s 417ms/step - loss: 0.1391 - accuracy: 0.9453 - val_loss: 0.1722 - val_accuracy: 0.9561\n",
            "Epoch 10/50\n",
            "134/134 [==============================] - 55s 414ms/step - loss: 0.1224 - accuracy: 0.9567 - val_loss: 0.1643 - val_accuracy: 0.9415\n",
            "Epoch 11/50\n",
            "134/134 [==============================] - 55s 412ms/step - loss: 0.1357 - accuracy: 0.9490 - val_loss: 0.1804 - val_accuracy: 0.9123\n",
            "Epoch 12/50\n",
            "134/134 [==============================] - 56s 415ms/step - loss: 0.1412 - accuracy: 0.9500 - val_loss: 0.2989 - val_accuracy: 0.8860\n",
            "Epoch 13/50\n",
            "134/134 [==============================] - 55s 413ms/step - loss: 0.1328 - accuracy: 0.9518 - val_loss: 0.1485 - val_accuracy: 0.9503\n",
            "Epoch 14/50\n",
            "134/134 [==============================] - 56s 414ms/step - loss: 0.1251 - accuracy: 0.9542 - val_loss: 1.3329 - val_accuracy: 0.7018\n",
            "Epoch 15/50\n",
            "134/134 [==============================] - 56s 414ms/step - loss: 0.1279 - accuracy: 0.9525 - val_loss: 0.1210 - val_accuracy: 0.9532\n",
            "Epoch 16/50\n",
            "134/134 [==============================] - 56s 417ms/step - loss: 0.1237 - accuracy: 0.9542 - val_loss: 0.1915 - val_accuracy: 0.9298\n",
            "Epoch 17/50\n",
            "134/134 [==============================] - 56s 418ms/step - loss: 0.1233 - accuracy: 0.9567 - val_loss: 0.1829 - val_accuracy: 0.9298\n",
            "Epoch 18/50\n",
            "134/134 [==============================] - 56s 420ms/step - loss: 0.1146 - accuracy: 0.9560 - val_loss: 0.1940 - val_accuracy: 0.9327\n",
            "Epoch 19/50\n",
            "134/134 [==============================] - 56s 420ms/step - loss: 0.1191 - accuracy: 0.9546 - val_loss: 0.1852 - val_accuracy: 0.9035\n",
            "Epoch 20/50\n",
            "134/134 [==============================] - 56s 420ms/step - loss: 0.1083 - accuracy: 0.9603 - val_loss: 0.2157 - val_accuracy: 0.9327\n",
            "Epoch 21/50\n",
            "134/134 [==============================] - 57s 425ms/step - loss: 0.1194 - accuracy: 0.9556 - val_loss: 0.4300 - val_accuracy: 0.8567\n",
            "Epoch 22/50\n",
            "134/134 [==============================] - 57s 425ms/step - loss: 0.1128 - accuracy: 0.9596 - val_loss: 0.2048 - val_accuracy: 0.9415\n",
            "Epoch 23/50\n",
            "134/134 [==============================] - 57s 426ms/step - loss: 0.1028 - accuracy: 0.9635 - val_loss: 0.2964 - val_accuracy: 0.8713\n",
            "Epoch 24/50\n",
            "134/134 [==============================] - 56s 421ms/step - loss: 0.1085 - accuracy: 0.9624 - val_loss: 0.1192 - val_accuracy: 0.9649\n",
            "Epoch 25/50\n",
            "134/134 [==============================] - 57s 422ms/step - loss: 0.1088 - accuracy: 0.9631 - val_loss: 0.9422 - val_accuracy: 0.8041\n",
            "Epoch 26/50\n",
            "134/134 [==============================] - 55s 413ms/step - loss: 0.1052 - accuracy: 0.9624 - val_loss: 0.1261 - val_accuracy: 0.9561\n",
            "Epoch 27/50\n",
            "134/134 [==============================] - 56s 419ms/step - loss: 0.1047 - accuracy: 0.9607 - val_loss: 0.0882 - val_accuracy: 0.9766\n",
            "Epoch 28/50\n",
            "134/134 [==============================] - 56s 421ms/step - loss: 0.1062 - accuracy: 0.9624 - val_loss: 0.2167 - val_accuracy: 0.9181\n",
            "Epoch 29/50\n",
            "134/134 [==============================] - 55s 411ms/step - loss: 0.0981 - accuracy: 0.9652 - val_loss: 0.1232 - val_accuracy: 0.9415\n",
            "Epoch 30/50\n",
            "134/134 [==============================] - 54s 405ms/step - loss: 0.1061 - accuracy: 0.9645 - val_loss: 0.2731 - val_accuracy: 0.9474\n",
            "Epoch 31/50\n",
            "134/134 [==============================] - 54s 403ms/step - loss: 0.0982 - accuracy: 0.9638 - val_loss: 0.0965 - val_accuracy: 0.9620\n",
            "Epoch 32/50\n",
            "134/134 [==============================] - 54s 404ms/step - loss: 0.0904 - accuracy: 0.9687 - val_loss: 0.0976 - val_accuracy: 0.9678\n",
            "Epoch 33/50\n",
            "134/134 [==============================] - 54s 402ms/step - loss: 0.0948 - accuracy: 0.9635 - val_loss: 0.1245 - val_accuracy: 0.9591\n",
            "Epoch 34/50\n",
            "134/134 [==============================] - 54s 405ms/step - loss: 0.0930 - accuracy: 0.9635 - val_loss: 0.5369 - val_accuracy: 0.8129\n",
            "Epoch 35/50\n",
            "134/134 [==============================] - 54s 403ms/step - loss: 0.0998 - accuracy: 0.9642 - val_loss: 0.1800 - val_accuracy: 0.9503\n",
            "Epoch 36/50\n",
            "134/134 [==============================] - 54s 401ms/step - loss: 0.0801 - accuracy: 0.9696 - val_loss: 0.1911 - val_accuracy: 0.9415\n",
            "Epoch 37/50\n",
            "134/134 [==============================] - 54s 402ms/step - loss: 0.0883 - accuracy: 0.9654 - val_loss: 0.5977 - val_accuracy: 0.7865\n",
            "Epoch 38/50\n",
            "134/134 [==============================] - 54s 401ms/step - loss: 0.0930 - accuracy: 0.9666 - val_loss: 0.3543 - val_accuracy: 0.8860\n",
            "Epoch 39/50\n",
            "134/134 [==============================] - 54s 403ms/step - loss: 0.0795 - accuracy: 0.9731 - val_loss: 0.2048 - val_accuracy: 0.9415\n",
            "Epoch 40/50\n",
            "134/134 [==============================] - 54s 404ms/step - loss: 0.0795 - accuracy: 0.9717 - val_loss: 3.2699 - val_accuracy: 0.6023\n",
            "Epoch 41/50\n",
            "134/134 [==============================] - 54s 401ms/step - loss: 0.0819 - accuracy: 0.9731 - val_loss: 0.1470 - val_accuracy: 0.9357\n",
            "Epoch 42/50\n",
            "134/134 [==============================] - 54s 401ms/step - loss: 0.0760 - accuracy: 0.9710 - val_loss: 0.0949 - val_accuracy: 0.9649\n",
            "Epoch 43/50\n",
            "134/134 [==============================] - 54s 401ms/step - loss: 0.0897 - accuracy: 0.9659 - val_loss: 0.1642 - val_accuracy: 0.9298\n",
            "Epoch 44/50\n",
            "134/134 [==============================] - 54s 400ms/step - loss: 0.0800 - accuracy: 0.9715 - val_loss: 0.0834 - val_accuracy: 0.9708\n",
            "Epoch 45/50\n",
            "134/134 [==============================] - 54s 400ms/step - loss: 0.0817 - accuracy: 0.9710 - val_loss: 0.0966 - val_accuracy: 0.9474\n",
            "Epoch 46/50\n",
            "134/134 [==============================] - 54s 404ms/step - loss: 0.0725 - accuracy: 0.9747 - val_loss: 0.0850 - val_accuracy: 0.9591\n",
            "Epoch 47/50\n",
            "134/134 [==============================] - 53s 398ms/step - loss: 0.0710 - accuracy: 0.9743 - val_loss: 0.1287 - val_accuracy: 0.9591\n",
            "Epoch 48/50\n",
            "134/134 [==============================] - 54s 400ms/step - loss: 0.0662 - accuracy: 0.9785 - val_loss: 0.1166 - val_accuracy: 0.9766\n",
            "Epoch 49/50\n",
            "134/134 [==============================] - 53s 398ms/step - loss: 0.0717 - accuracy: 0.9724 - val_loss: 0.1356 - val_accuracy: 0.9649\n",
            "Epoch 50/50\n",
            "134/134 [==============================] - 53s 397ms/step - loss: 0.0779 - accuracy: 0.9715 - val_loss: 0.2214 - val_accuracy: 0.9298\n"
          ],
          "name": "stdout"
        }
      ]
    },
    {
      "cell_type": "code",
      "metadata": {
        "id": "dpInN0W_sjBv",
        "colab_type": "code",
        "colab": {
          "base_uri": "https://localhost:8080/",
          "height": 265
        },
        "outputId": "bc92d01e-3524-4363-e780-ef666c6af11a"
      },
      "source": [
        "plt.plot(r.history['loss'],label = 'loss',color = 'magenta')\n",
        "plt.plot(r.history['val_loss'],label = 'validation_loss',color = 'red')\n",
        "plt.legend()\n",
        "plt.show()"
      ],
      "execution_count": 66,
      "outputs": [
        {
          "output_type": "display_data",
          "data": {
            "image/png": "[encoded data removed]",
            "text/plain": [
              "<Figure size 432x288 with 1 Axes>"
            ]
          },
          "metadata": {
            "tags": [],
            "needs_background": "light"
          }
        }
      ]
    },
    {
      "cell_type": "code",
      "metadata": {
        "id": "usZx2xrhFH9K",
        "colab_type": "code",
        "colab": {
          "base_uri": "https://localhost:8080/",
          "height": 265
        },
        "outputId": "88f86f6b-0480-4812-83f9-1bb9f410bc61"
      },
      "source": [
        "plt.plot(r.history['accuracy'],label = 'accuracy',color = 'magenta')\n",
        "plt.plot(r.history['val_accuracy'],label = 'val_accuracy',color = 'red')\n",
        "plt.legend()\n",
        "plt.show()"
      ],
      "execution_count": 67,
      "outputs": [
        {
          "output_type": "display_data",
          "data": {
            "image/png": "[encoded data removed]",
            "text/plain": [
              "<Figure size 432x288 with 1 Axes>"
            ]
          },
          "metadata": {
            "tags": [],
            "needs_background": "light"
          }
        }
      ]
    },
    {
      "cell_type": "code",
      "metadata": {
        "id": "4Zeh4OMEFZhZ",
        "colab_type": "code",
        "colab": {
          "base_uri": "https://localhost:8080/",
          "height": 33
        },
        "outputId": "559bbb36-3c4e-462e-be92-09b5c1af0ffb"
      },
      "source": [
        "predict = load_img('/content/drive/My Drive/covid-dataset/validation/NORMAL2-IM-0059-0001.jpeg',target_size=(224,224))\n",
        "x = image.img_to_array(predict)\n",
        "z = np.expand_dims(x,axis = 0)\n",
        "result = model.predict(z)\n",
        "final = np.argmax(result, axis=1)\n",
        "if final== 1:\n",
        "  print('NORMAL')\n",
        "else:\n",
        "  print('COVID')"
      ],
      "execution_count": 88,
      "outputs": [
        {
          "output_type": "stream",
          "text": [
            "NORMAL\n"
          ],
          "name": "stdout"
        }
      ]
    },
    {
      "cell_type": "code",
      "metadata": {
        "id": "AWsME6v57f1t",
        "colab_type": "code",
        "colab": {}
      },
      "source": [
        "model.save('covidpredictor.h5')"
      ],
      "execution_count": 90,
      "outputs": []
    }
  ]
}